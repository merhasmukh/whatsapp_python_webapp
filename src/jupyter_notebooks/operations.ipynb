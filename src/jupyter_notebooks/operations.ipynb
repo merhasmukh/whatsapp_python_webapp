{
 "cells": [
  {
   "cell_type": "code",
   "execution_count": 1,
   "metadata": {},
   "outputs": [],
   "source": [
    "import pandas as pd "
   ]
  },
  {
   "cell_type": "code",
   "execution_count": 14,
   "metadata": {},
   "outputs": [
    {
     "data": {
      "text/html": [
       "<div>\n",
       "<style scoped>\n",
       "    .dataframe tbody tr th:only-of-type {\n",
       "        vertical-align: middle;\n",
       "    }\n",
       "\n",
       "    .dataframe tbody tr th {\n",
       "        vertical-align: top;\n",
       "    }\n",
       "\n",
       "    .dataframe thead th {\n",
       "        text-align: right;\n",
       "    }\n",
       "</style>\n",
       "<table border=\"1\" class=\"dataframe\">\n",
       "  <thead>\n",
       "    <tr style=\"text-align: right;\">\n",
       "      <th></th>\n",
       "      <th>Unnamed: 0</th>\n",
       "      <th>Unnamed: 1</th>\n",
       "      <th>Unnamed: 2</th>\n",
       "      <th>Unnamed: 3</th>\n",
       "      <th>Unnamed: 4</th>\n",
       "      <th>Unnamed: 5</th>\n",
       "      <th>Unnamed: 6</th>\n",
       "      <th>Unnamed: 7</th>\n",
       "    </tr>\n",
       "  </thead>\n",
       "  <tbody>\n",
       "    <tr>\n",
       "      <th>0</th>\n",
       "      <td>SR NO</td>\n",
       "      <td>Name of the User</td>\n",
       "      <td>Mobile No.1</td>\n",
       "      <td>Sub-Village</td>\n",
       "      <td>SR NO</td>\n",
       "      <td>Name of the User</td>\n",
       "      <td>Mobile No.1</td>\n",
       "      <td>Sub-Village</td>\n",
       "    </tr>\n",
       "    <tr>\n",
       "      <th>1</th>\n",
       "      <td>1</td>\n",
       "      <td>GUNVANTBHAI KARSHANBHAI</td>\n",
       "      <td>9974828949</td>\n",
       "      <td>Vadod</td>\n",
       "      <td>521</td>\n",
       "      <td>VITHALBHAI NARANBHAI ZAPADIYA</td>\n",
       "      <td>7505865960</td>\n",
       "      <td>Kasloliya</td>\n",
       "    </tr>\n",
       "    <tr>\n",
       "      <th>2</th>\n",
       "      <td>2</td>\n",
       "      <td>RAMESHBHAI RAVAJIBHAI</td>\n",
       "      <td>9998453310</td>\n",
       "      <td>Vadod</td>\n",
       "      <td>522</td>\n",
       "      <td>LALJIBHAI VALAJIBHAI RATHOD</td>\n",
       "      <td>9662431926</td>\n",
       "      <td>Kasloliya</td>\n",
       "    </tr>\n",
       "    <tr>\n",
       "      <th>3</th>\n",
       "      <td>3</td>\n",
       "      <td>RAVJIBHAI GHUGHABHAI DABHI</td>\n",
       "      <td>9601148533</td>\n",
       "      <td>Vadod</td>\n",
       "      <td>523</td>\n",
       "      <td>RAGHUBHAI KESHARBHAI ZAPADIYA</td>\n",
       "      <td>9558910736</td>\n",
       "      <td>Kasloliya</td>\n",
       "    </tr>\n",
       "    <tr>\n",
       "      <th>4</th>\n",
       "      <td>4</td>\n",
       "      <td>DEHURBHAI VASRAMBHAI</td>\n",
       "      <td>9725128125</td>\n",
       "      <td>Vadod</td>\n",
       "      <td>524</td>\n",
       "      <td>VALJIBHAI POLABHAI ZAPADIYA</td>\n",
       "      <td>9725829522</td>\n",
       "      <td>Kasloliya</td>\n",
       "    </tr>\n",
       "  </tbody>\n",
       "</table>\n",
       "</div>"
      ],
      "text/plain": [
       "  Unnamed: 0                  Unnamed: 1   Unnamed: 2   Unnamed: 3 Unnamed: 4  \\\n",
       "0      SR NO           Name of the User   Mobile No.1  Sub-Village      SR NO   \n",
       "1          1     GUNVANTBHAI KARSHANBHAI   9974828949        Vadod        521   \n",
       "2          2       RAMESHBHAI RAVAJIBHAI   9998453310        Vadod        522   \n",
       "3          3  RAVJIBHAI GHUGHABHAI DABHI   9601148533        Vadod        523   \n",
       "4          4        DEHURBHAI VASRAMBHAI   9725128125        Vadod        524   \n",
       "\n",
       "                      Unnamed: 5   Unnamed: 6   Unnamed: 7  \n",
       "0              Name of the User   Mobile No.1  Sub-Village  \n",
       "1  VITHALBHAI NARANBHAI ZAPADIYA   7505865960    Kasloliya  \n",
       "2    LALJIBHAI VALAJIBHAI RATHOD   9662431926    Kasloliya  \n",
       "3  RAGHUBHAI KESHARBHAI ZAPADIYA   9558910736    Kasloliya  \n",
       "4    VALJIBHAI POLABHAI ZAPADIYA   9725829522    Kasloliya  "
      ]
     },
     "execution_count": 14,
     "metadata": {},
     "output_type": "execute_result"
    }
   ],
   "source": [
    "data=pd.read_excel(\"./FARMERS LIST SHREE FARMERS LIST.xlsm\")\n",
    "data.head()"
   ]
  },
  {
   "cell_type": "code",
   "execution_count": 17,
   "metadata": {},
   "outputs": [
    {
     "name": "stdout",
     "output_type": "stream",
     "text": [
      "11\n"
     ]
    },
    {
     "ename": "TypeError",
     "evalue": "object of type 'int' has no len()",
     "output_type": "error",
     "traceback": [
      "\u001b[0;31m---------------------------------------------------------------------------\u001b[0m",
      "\u001b[0;31mTypeError\u001b[0m                                 Traceback (most recent call last)",
      "\u001b[0;32m<ipython-input-17-99af2c476835>\u001b[0m in \u001b[0;36m<module>\u001b[0;34m\u001b[0m\n\u001b[1;32m      1\u001b[0m \u001b[0;32mfor\u001b[0m \u001b[0mi\u001b[0m \u001b[0;32min\u001b[0m \u001b[0mdata\u001b[0m\u001b[0;34m[\u001b[0m\u001b[0;34m'Unnamed: 2'\u001b[0m\u001b[0;34m]\u001b[0m\u001b[0;34m:\u001b[0m\u001b[0;34m\u001b[0m\u001b[0;34m\u001b[0m\u001b[0m\n\u001b[0;32m----> 2\u001b[0;31m     \u001b[0mprint\u001b[0m\u001b[0;34m(\u001b[0m\u001b[0mlen\u001b[0m\u001b[0;34m(\u001b[0m\u001b[0mi\u001b[0m\u001b[0;34m)\u001b[0m\u001b[0;34m)\u001b[0m\u001b[0;34m\u001b[0m\u001b[0;34m\u001b[0m\u001b[0m\n\u001b[0m",
      "\u001b[0;31mTypeError\u001b[0m: object of type 'int' has no len()"
     ]
    }
   ],
   "source": [
    "for i in data['Unnamed: 2']:\n",
    "    print(len(i))"
   ]
  },
  {
   "cell_type": "code",
   "execution_count": null,
   "metadata": {},
   "outputs": [],
   "source": []
  }
 ],
 "metadata": {
  "kernelspec": {
   "display_name": "Python 3",
   "language": "python",
   "name": "python3"
  },
  "language_info": {
   "codemirror_mode": {
    "name": "ipython",
    "version": 3
   },
   "file_extension": ".py",
   "mimetype": "text/x-python",
   "name": "python",
   "nbconvert_exporter": "python",
   "pygments_lexer": "ipython3",
   "version": "3.8.10"
  },
  "orig_nbformat": 4
 },
 "nbformat": 4,
 "nbformat_minor": 2
}
